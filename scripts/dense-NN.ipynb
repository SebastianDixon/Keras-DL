{
 "metadata": {
  "language_info": {
   "codemirror_mode": {
    "name": "ipython",
    "version": 3
   },
   "file_extension": ".py",
   "mimetype": "text/x-python",
   "name": "python",
   "nbconvert_exporter": "python",
   "pygments_lexer": "ipython3",
   "version": 3
  },
  "orig_nbformat": 2,
  "kernelspec": {
   "name": "pycharm-a1a1ad44",
   "language": "python",
   "display_name": "PyCharm (keras-demo)"
  }
 },
 "nbformat": 4,
 "nbformat_minor": 2,
 "cells": [
  {
   "cell_type": "code",
   "execution_count": 37,
   "outputs": [],
   "source": [
    "import tensorflow as tf\n",
    "from tensorflow import keras\n",
    "from tensorflow.keras.models import Sequential\n",
    "from tensorflow.keras.layers import Activation, Dense\n",
    "from tensorflow.keras.optimizers import Adam\n",
    "from tensorflow.keras.metrics import categorical_crossentropy\n",
    "from tensorflow.keras.models import save_model"
   ],
   "metadata": {
    "collapsed": false,
    "pycharm": {
     "name": "#%%\n"
    }
   }
  },
  {
   "cell_type": "code",
   "execution_count": 38,
   "outputs": [],
   "source": [
    "import numpy as np\n",
    "from random import randint\n",
    "from sklearn.utils import shuffle\n",
    "from sklearn.preprocessing import MinMaxScaler"
   ],
   "metadata": {
    "collapsed": false,
    "pycharm": {
     "name": "#%%\n"
    }
   }
  },
  {
   "cell_type": "code",
   "execution_count": 39,
   "outputs": [],
   "source": [
    "train_labels = []\n",
    "train_samples = []"
   ],
   "metadata": {
    "collapsed": false,
    "pycharm": {
     "name": "#%%\n"
    }
   }
  },
  {
   "cell_type": "code",
   "execution_count": 40,
   "outputs": [],
   "source": [
    "for i in range(50):\n",
    "    random_younger = randint(13,64)\n",
    "    train_samples.append(random_younger)\n",
    "    train_labels.append(1)\n",
    "\n",
    "    random_older = randint(65,100)\n",
    "    train_samples.append(random_older)\n",
    "    train_labels.append(0)\n",
    "\n",
    "for i in range(1000):\n",
    "    random_younger = randint(13,64)\n",
    "    train_samples.append(random_younger)\n",
    "    train_labels.append(0)\n",
    "\n",
    "    random_older = randint(65,100)\n",
    "    train_samples.append(random_older)\n",
    "    train_labels.append(1)"
   ],
   "metadata": {
    "collapsed": false,
    "pycharm": {
     "name": "#%%\n"
    }
   }
  },
  {
   "cell_type": "markdown",
   "source": [
    "5 percent of young experience side affects,95 percent of old experience side affects"
   ],
   "metadata": {
    "collapsed": false
   }
  },
  {
   "cell_type": "code",
   "execution_count": 41,
   "outputs": [],
   "source": [
    "train_labels = np.array(train_labels)\n",
    "train_samples = np.array(train_samples)\n",
    "train_labels, train_samples = shuffle(train_labels, train_samples)"
   ],
   "metadata": {
    "collapsed": false,
    "pycharm": {
     "name": "#%%\n"
    }
   }
  },
  {
   "cell_type": "markdown",
   "source": [
    "the data must be represented in this numpy array form for keras to recognise it"
   ],
   "metadata": {
    "collapsed": false
   }
  },
  {
   "cell_type": "code",
   "execution_count": 42,
   "outputs": [],
   "source": [
    "scaler = MinMaxScaler(feature_range=(0,1))\n",
    "scaled_train_samples = scaler.fit_transform(train_samples.reshape(-1,1))"
   ],
   "metadata": {
    "collapsed": false,
    "pycharm": {
     "name": "#%%\n"
    }
   }
  },
  {
   "cell_type": "markdown",
   "source": [
    "this scaler converts the training data into a range between 0 and 1 as to normalize the training data,\n",
    "this process reduces the possibility of any vanishing or exploding weights inside the model in training\n"
   ],
   "metadata": {
    "collapsed": false,
    "pycharm": {
     "name": "#%% md\n"
    }
   }
  },
  {
   "cell_type": "code",
   "execution_count": 43,
   "outputs": [],
   "source": [
    "model = Sequential([\n",
    "    Dense(units=16, input_shape=(1,), activation='relu'),\n",
    "    Dense(units=32, activation='relu'),\n",
    "    Dense(units=2, activation='sigmoid')\n",
    "])\n"
   ],
   "metadata": {
    "collapsed": false,
    "pycharm": {
     "name": "#%%\n"
    }
   }
  },
  {
   "cell_type": "markdown",
   "source": [
    "this model features 3 fulled connected layers using the relu activation function and softmax activation function\n",
    "\n",
    "the relu activation function only passes positive values to the next nodes as the same value\n",
    "sigmoid activation function maps positive values very close to 1 and negative close to 0"
   ],
   "metadata": {
    "collapsed": false,
    "pycharm": {
     "name": "#%% md\n"
    }
   }
  },
  {
   "cell_type": "code",
   "execution_count": 44,
   "outputs": [],
   "source": [
    "model.compile(optimizer=Adam(learning_rate=0.0001), loss='sparse_categorical_crossentropy', metrics=['accuracy'])"
   ],
   "metadata": {
    "collapsed": false,
    "pycharm": {
     "name": "#%%\n"
    }
   }
  },
  {
   "cell_type": "markdown",
   "source": [
    "using the form of SGD of Adam, adaptive movement estimation. Adam uses a combination of two different sgd algorithms.\n",
    "RMSprop and Momentum gradient descent optimization algorithms, the decaying average of past squared gradients\n",
    "and past gradients is computed. This use of 'momentum' helps the algorithm determine the global minima.\n",
    "\n",
    "the model is being optimised for the accuracy metric\n",
    "\n",
    "this loss function computes the loss between true labels and predicted labels"
   ],
   "metadata": {
    "collapsed": false,
    "pycharm": {
     "name": "#%% md\n"
    }
   }
  },
  {
   "cell_type": "code",
   "execution_count": 45,
   "outputs": [
    {
     "name": "stdout",
     "output_type": "stream",
     "text": [
      "Epoch 1/30\n",
      "189/189 - 0s - loss: 0.6787 - accuracy: 0.5159 - val_loss: 0.6669 - val_accuracy: 0.5524\n",
      "Epoch 2/30\n",
      "189/189 - 0s - loss: 0.6597 - accuracy: 0.5365 - val_loss: 0.6456 - val_accuracy: 0.6095\n",
      "Epoch 3/30\n",
      "189/189 - 0s - loss: 0.6404 - accuracy: 0.6021 - val_loss: 0.6248 - val_accuracy: 0.6429\n",
      "Epoch 4/30\n",
      "189/189 - 0s - loss: 0.6177 - accuracy: 0.6577 - val_loss: 0.6021 - val_accuracy: 0.6905\n",
      "Epoch 5/30\n",
      "189/189 - 0s - loss: 0.5954 - accuracy: 0.6921 - val_loss: 0.5797 - val_accuracy: 0.7000\n",
      "Epoch 6/30\n",
      "189/189 - 0s - loss: 0.5719 - accuracy: 0.7212 - val_loss: 0.5564 - val_accuracy: 0.7333\n",
      "Epoch 7/30\n",
      "189/189 - 0s - loss: 0.5473 - accuracy: 0.7481 - val_loss: 0.5324 - val_accuracy: 0.7571\n",
      "Epoch 8/30\n",
      "189/189 - 0s - loss: 0.5203 - accuracy: 0.7836 - val_loss: 0.5068 - val_accuracy: 0.8143\n",
      "Epoch 9/30\n",
      "189/189 - 0s - loss: 0.4928 - accuracy: 0.8111 - val_loss: 0.4818 - val_accuracy: 0.8333\n",
      "Epoch 10/30\n",
      "189/189 - 0s - loss: 0.4655 - accuracy: 0.8376 - val_loss: 0.4570 - val_accuracy: 0.8476\n",
      "Epoch 11/30\n",
      "189/189 - 0s - loss: 0.4392 - accuracy: 0.8608 - val_loss: 0.4340 - val_accuracy: 0.8571\n",
      "Epoch 12/30\n",
      "189/189 - 0s - loss: 0.4148 - accuracy: 0.8762 - val_loss: 0.4131 - val_accuracy: 0.8619\n",
      "Epoch 13/30\n",
      "189/189 - 0s - loss: 0.3925 - accuracy: 0.8921 - val_loss: 0.3940 - val_accuracy: 0.8905\n",
      "Epoch 14/30\n",
      "189/189 - 0s - loss: 0.3724 - accuracy: 0.9005 - val_loss: 0.3780 - val_accuracy: 0.8905\n",
      "Epoch 15/30\n",
      "189/189 - 0s - loss: 0.3548 - accuracy: 0.9053 - val_loss: 0.3633 - val_accuracy: 0.8952\n",
      "Epoch 16/30\n",
      "189/189 - 0s - loss: 0.3402 - accuracy: 0.9148 - val_loss: 0.3520 - val_accuracy: 0.9000\n",
      "Epoch 17/30\n",
      "189/189 - 0s - loss: 0.3276 - accuracy: 0.9185 - val_loss: 0.3425 - val_accuracy: 0.9000\n",
      "Epoch 18/30\n",
      "189/189 - 0s - loss: 0.3168 - accuracy: 0.9233 - val_loss: 0.3353 - val_accuracy: 0.9000\n",
      "Epoch 19/30\n",
      "189/189 - 0s - loss: 0.3079 - accuracy: 0.9249 - val_loss: 0.3281 - val_accuracy: 0.9095\n",
      "Epoch 20/30\n",
      "189/189 - 0s - loss: 0.3003 - accuracy: 0.9291 - val_loss: 0.3229 - val_accuracy: 0.9095\n",
      "Epoch 21/30\n",
      "189/189 - 0s - loss: 0.2942 - accuracy: 0.9317 - val_loss: 0.3191 - val_accuracy: 0.9095\n",
      "Epoch 22/30\n",
      "189/189 - 0s - loss: 0.2888 - accuracy: 0.9307 - val_loss: 0.3149 - val_accuracy: 0.9095\n",
      "Epoch 23/30\n",
      "189/189 - 0s - loss: 0.2845 - accuracy: 0.9307 - val_loss: 0.3115 - val_accuracy: 0.9286\n",
      "Epoch 24/30\n",
      "189/189 - 0s - loss: 0.2807 - accuracy: 0.9354 - val_loss: 0.3101 - val_accuracy: 0.9095\n",
      "Epoch 25/30\n",
      "189/189 - 0s - loss: 0.2774 - accuracy: 0.9339 - val_loss: 0.3086 - val_accuracy: 0.9095\n",
      "Epoch 26/30\n",
      "189/189 - 0s - loss: 0.2743 - accuracy: 0.9328 - val_loss: 0.3040 - val_accuracy: 0.9286\n",
      "Epoch 27/30\n",
      "189/189 - 0s - loss: 0.2723 - accuracy: 0.9386 - val_loss: 0.3032 - val_accuracy: 0.9286\n",
      "Epoch 28/30\n",
      "189/189 - 0s - loss: 0.2699 - accuracy: 0.9381 - val_loss: 0.3021 - val_accuracy: 0.9286\n",
      "Epoch 29/30\n",
      "189/189 - 0s - loss: 0.2679 - accuracy: 0.9381 - val_loss: 0.3020 - val_accuracy: 0.9286\n",
      "Epoch 30/30\n",
      "189/189 - 0s - loss: 0.2664 - accuracy: 0.9354 - val_loss: 0.2999 - val_accuracy: 0.9286\n"
     ]
    },
    {
     "data": {
      "text/plain": "<tensorflow.python.keras.callbacks.History at 0x21ef4023640>"
     },
     "execution_count": 45,
     "metadata": {},
     "output_type": "execute_result"
    }
   ],
   "source": [
    "model.fit(x=scaled_train_samples, y=train_labels, validation_split=0.1, batch_size=10, epochs=30, verbose=2)"
   ],
   "metadata": {
    "collapsed": false,
    "pycharm": {
     "name": "#%%\n"
    }
   }
  },
  {
   "cell_type": "code",
   "execution_count": 46,
   "outputs": [],
   "source": [
    "test_labels =  []\n",
    "test_samples = []\n",
    "\n",
    "for i in range(10):\n",
    "    random_younger = randint(13,64)\n",
    "    test_samples.append(random_younger)\n",
    "    test_labels.append(1)\n",
    "\n",
    "    random_older = randint(65,100)\n",
    "    test_samples.append(random_older)\n",
    "    test_labels.append(0)\n",
    "\n",
    "for i in range(200):\n",
    "    random_younger = randint(13,64)\n",
    "    test_samples.append(random_younger)\n",
    "    test_labels.append(0)\n",
    "\n",
    "    random_older = randint(65,100)\n",
    "    test_samples.append(random_older)\n",
    "    test_labels.append(1)\n",
    "\n",
    "test_labels = np.array(test_labels)\n",
    "test_samples = np.array(test_samples)\n",
    "test_labels, test_samples = shuffle(test_labels, test_samples)\n",
    "\n",
    "scaled_test_samples = scaler.fit_transform(test_samples.reshape(-1,1))"
   ],
   "metadata": {
    "collapsed": false,
    "pycharm": {
     "name": "#%%\n"
    }
   }
  },
  {
   "cell_type": "markdown",
   "source": [
    "this test data is smaller in size than the training data and has been normalized in the same\n",
    "way as the training data\n"
   ],
   "metadata": {
    "collapsed": false,
    "pycharm": {
     "name": "#%% md\n"
    }
   }
  },
  {
   "cell_type": "code",
   "execution_count": 47,
   "outputs": [],
   "source": [
    "%matplotlib inline\n",
    "from sklearn.metrics import confusion_matrix\n",
    "import itertools\n",
    "import matplotlib.pyplot as plt\n",
    "\n",
    "predictions = model.predict(\n",
    "      x=scaled_test_samples\n",
    "    , batch_size=10\n",
    "    , verbose=0\n",
    ")\n",
    "rounded_predictions = np.argmax(predictions, axis=-1)\n",
    "\n",
    "cm = confusion_matrix(y_true=test_labels, y_pred=rounded_predictions)"
   ],
   "metadata": {
    "collapsed": false,
    "pycharm": {
     "name": "#%%\n"
    }
   }
  },
  {
   "cell_type": "code",
   "execution_count": 48,
   "outputs": [],
   "source": [
    "def plot_confusion_matrix(cm, classes, normalize=False, title='Confusion matrix',\n",
    "                          cmap=plt.cm.Blues):\n",
    "\n",
    "    plt.imshow(cm, interpolation='nearest', cmap=cmap)\n",
    "    plt.title(title)\n",
    "    tick_marks = np.arange(len(classes))\n",
    "    plt.xticks(tick_marks, classes, rotation=45)\n",
    "    plt.yticks(tick_marks, classes)\n",
    "\n",
    "    if normalize:\n",
    "        cm = cm.astype('float') / cm.sum(axis=1)[:, np.newaxis]\n",
    "        print(\"Normalized confusion matrix\")\n",
    "    else:\n",
    "        print('Confusion matrix, without normalization')\n",
    "\n",
    "    print(cm)\n",
    "\n",
    "    thresh = cm.max() / 2.\n",
    "    for i, j in itertools.product(range(cm.shape[0]), range(cm.shape[1])):\n",
    "        plt.text(j, i, cm[i, j],\n",
    "            horizontalalignment=\"center\",\n",
    "            color=\"white\" if cm[i, j] > thresh else \"black\")\n",
    "\n",
    "    plt.tight_layout()\n",
    "    plt.ylabel('True label')\n",
    "    plt.xlabel('Predicted label')"
   ],
   "metadata": {
    "collapsed": false,
    "pycharm": {
     "name": "#%%\n"
    }
   }
  },
  {
   "cell_type": "code",
   "execution_count": 49,
   "outputs": [
    {
     "name": "stdout",
     "output_type": "stream",
     "text": [
      "Confusion matrix, without normalization\n",
      "[[192  18]\n",
      " [  9 201]]\n"
     ]
    },
    {
     "data": {
      "text/plain": "<Figure size 432x288 with 1 Axes>",
      "image/png": "[encoded data removed]"
     },
     "metadata": {
      "needs_background": "light"
     },
     "output_type": "display_data"
    }
   ],
   "source": [
    "cm_plot_labels = ['no_side_effects','had_side_effects']\n",
    "plot_confusion_matrix(cm=cm, classes=cm_plot_labels, title='Confusion Matrix')\n"
   ],
   "metadata": {
    "collapsed": false,
    "pycharm": {
     "name": "#%%\n"
    }
   }
  }
 ]
}